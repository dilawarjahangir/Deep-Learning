{
 "cells": [
  {
   "cell_type": "code",
   "execution_count": 1,
   "metadata": {},
   "outputs": [],
   "source": [
    "import os\n",
    "import shutil\n",
    "from sklearn.model_selection import train_test_split"
   ]
  },
  {
   "cell_type": "code",
   "execution_count": 2,
   "metadata": {},
   "outputs": [],
   "source": [
    "# Define the paths\n",
    "data_dir = 'Data'\n",
    "parasited_dir = os.path.join(data_dir, 'parasited')\n",
    "uninfected_dir = os.path.join(data_dir, 'uninfected')"
   ]
  },
  {
   "cell_type": "code",
   "execution_count": 5,
   "metadata": {},
   "outputs": [],
   "source": [
    "\n",
    "# Define the output directories\n",
    "train_dir = 'trainData'\n",
    "test_dir = 'testData'"
   ]
  },
  {
   "cell_type": "code",
   "execution_count": 6,
   "metadata": {},
   "outputs": [],
   "source": [
    "\n",
    "# Create output directories if they don't exist\n",
    "os.makedirs(os.path.join(train_dir, 'parasited'), exist_ok=True)\n",
    "os.makedirs(os.path.join(train_dir, 'uninfected'), exist_ok=True)\n",
    "os.makedirs(os.path.join(test_dir, 'parasited'), exist_ok=True)\n",
    "os.makedirs(os.path.join(test_dir, 'uninfected'), exist_ok=True)"
   ]
  },
  {
   "cell_type": "code",
   "execution_count": 8,
   "metadata": {},
   "outputs": [],
   "source": [
    "\n",
    "# Get list of files in each category\n",
    "parasited_files = os.listdir(parasited_dir)\n",
    "uninfected_files = os.listdir(uninfected_dir)\n"
   ]
  },
  {
   "cell_type": "code",
   "execution_count": 9,
   "metadata": {},
   "outputs": [],
   "source": [
    "parasited_train, parasited_test = train_test_split(parasited_files, test_size=0.2, random_state=42)\n",
    "uninfected_train, uninfected_test = train_test_split(uninfected_files, test_size=0.2, random_state=42)"
   ]
  },
  {
   "cell_type": "code",
   "execution_count": 10,
   "metadata": {},
   "outputs": [
    {
     "name": "stdout",
     "output_type": "stream",
     "text": [
      "Data successfully split into trainData and testData with an 80/20 ratio.\n"
     ]
    }
   ],
   "source": [
    "for file in parasited_train:\n",
    "    shutil.move(os.path.join(parasited_dir, file), os.path.join(train_dir, 'parasited', file))\n",
    "\n",
    "for file in parasited_test:\n",
    "    shutil.move(os.path.join(parasited_dir, file), os.path.join(test_dir, 'parasited', file))\n",
    "\n",
    "for file in uninfected_train:\n",
    "    shutil.move(os.path.join(uninfected_dir, file), os.path.join(train_dir, 'uninfected', file))\n",
    "\n",
    "for file in uninfected_test:\n",
    "    shutil.move(os.path.join(uninfected_dir, file), os.path.join(test_dir, 'uninfected', file))\n",
    "\n",
    "print(\"Data successfully split into trainData and testData with an 80/20 ratio.\")"
   ]
  },
  {
   "cell_type": "code",
   "execution_count": null,
   "metadata": {},
   "outputs": [],
   "source": []
  },
  {
   "cell_type": "code",
   "execution_count": null,
   "metadata": {},
   "outputs": [],
   "source": []
  }
 ],
 "metadata": {
  "kernelspec": {
   "display_name": "Python 3",
   "language": "python",
   "name": "python3"
  },
  "language_info": {
   "codemirror_mode": {
    "name": "ipython",
    "version": 3
   },
   "file_extension": ".py",
   "mimetype": "text/x-python",
   "name": "python",
   "nbconvert_exporter": "python",
   "pygments_lexer": "ipython3",
   "version": "3.12.4"
  }
 },
 "nbformat": 4,
 "nbformat_minor": 2
}
